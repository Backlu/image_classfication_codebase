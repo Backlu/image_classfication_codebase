{
 "cells": [
  {
   "cell_type": "markdown",
   "id": "73a3ecbf-21e9-44bb-9951-7c6cf9b71826",
   "metadata": {},
   "source": [
    "# Inference"
   ]
  },
  {
   "cell_type": "markdown",
   "id": "a019fa27-c1c0-4bdc-a28f-d519444d7323",
   "metadata": {},
   "source": [
    "History\n",
    "- 4/9\n",
    "   - implement ensemble\n",
    "- 4/10\n",
    "   - implement TTA"
   ]
  },
  {
   "cell_type": "code",
   "execution_count": null,
   "id": "ca72cec6-5404-4abd-906e-b2c925c4784c",
   "metadata": {},
   "outputs": [],
   "source": [
    "%load_ext autoreload\n",
    "%autoreload 2\n",
    "import os, sys, cv2, glob, datetime\n",
    "import numpy as np\n",
    "import pandas as pd\n",
    "from sklearn.metrics import accuracy_score\n",
    "from tqdm import tqdm\n",
    "from classifier import *\n",
    "\n",
    "ensemble_models = ['densenet201','resnet101', 'xception', 'resnet101v2', 'inception_resnet_v2','resnet152v2','densenet169']\n",
    "os.environ['CUDA_VISIBLE_DEVICES'] = '0'\n",
    "    \n",
    "#NASNetLarge(include_top=False, input_shape=(331,331,3))     \n"
   ]
  },
  {
   "cell_type": "markdown",
   "id": "6dbad59c",
   "metadata": {},
   "source": [
    "### 1. Prepare data"
   ]
  },
  {
   "cell_type": "code",
   "execution_count": null,
   "id": "b75f58a5-0354-4a45-8308-6d050b53a1c5",
   "metadata": {},
   "outputs": [],
   "source": [
    "\n",
    "tr_floder = '/mnt/hdd1/Data/Competition/orchid/training'\n",
    "df_tr = pd.DataFrame({'filepath':glob.glob(os.path.join(tr_floder,'*.jpg'))})\n",
    "df_tr['filename'] = df_tr['filepath'].map(lambda x: os.path.basename(x))\n",
    "df_tr['key']=df_tr['filename']\n",
    "\n",
    "#新增training aug 0412\n",
    "aug_folder='/mnt/hdd1/Data/Competition/orchid/training_aug'\n",
    "df_aug = pd.DataFrame({'filepath':glob.glob(os.path.join(aug_folder,'*.jpg'))})\n",
    "df_aug['filename'] = df_aug['filepath'].map(lambda x: os.path.basename(x))\n",
    "df_aug['key']=df_aug['filename'].map(lambda x: x[4:])\n",
    "\n",
    "#TODO: 新增test_public\n",
    "#TODO: 新增test_private\n"
   ]
  },
  {
   "cell_type": "markdown",
   "id": "6f19aa45",
   "metadata": {},
   "source": [
    "### 2. Inference"
   ]
  },
  {
   "cell_type": "code",
   "execution_count": null,
   "id": "37ff38b4",
   "metadata": {},
   "outputs": [],
   "source": [
    "clf = Classifier()\n",
    "clf.model_dir = '/mnt/hdd1/Model/Competition/orchid'\n",
    "clf.cls_map_path = 'model/model_cls_map.pkl'\n",
    "clf.model_ver = '0412v1'\n",
    "clf.ensemble_models = ensemble_models\n",
    "clf.tta_n = 3"
   ]
  },
  {
   "cell_type": "code",
   "execution_count": null,
   "id": "c55a1d7a",
   "metadata": {
    "scrolled": true
   },
   "outputs": [],
   "source": [
    "\n",
    "df_tr = clf.inference(df_tr, output_prefix='tr')\n",
    "df_aug = clf.inference(df_aug, output_prefix='traug')"
   ]
  },
  {
   "cell_type": "markdown",
   "id": "61ff473e",
   "metadata": {},
   "source": [
    "### Generate submit.csv"
   ]
  },
  {
   "cell_type": "code",
   "execution_count": null,
   "id": "441656bf",
   "metadata": {},
   "outputs": [],
   "source": []
  },
  {
   "cell_type": "markdown",
   "id": "a05af035",
   "metadata": {},
   "source": [
    "### Acc evaluate"
   ]
  },
  {
   "cell_type": "code",
   "execution_count": null,
   "id": "4ae4e26e",
   "metadata": {},
   "outputs": [],
   "source": [
    "clf.label_path = '/mnt/hdd1/Data/Competition/orchid/training/label.csv'\n",
    "\n",
    "clf.evaluate_acc(df_tr)\n",
    "clf.evaluate_acc(df_aug)\n"
   ]
  },
  {
   "cell_type": "code",
   "execution_count": null,
   "id": "b7524b35",
   "metadata": {},
   "outputs": [],
   "source": []
  },
  {
   "cell_type": "markdown",
   "id": "51c413cd-135b-4594-94b3-7402e1b61cbf",
   "metadata": {},
   "source": [
    "***"
   ]
  },
  {
   "cell_type": "code",
   "execution_count": null,
   "id": "b0e064e4",
   "metadata": {},
   "outputs": [],
   "source": [
    "from tensorflow.keras.models import load_model"
   ]
  },
  {
   "cell_type": "code",
   "execution_count": null,
   "id": "cdfb5027-a95d-48de-b0e6-74be4aa59848",
   "metadata": {},
   "outputs": [],
   "source": [
    "tiral_ver='0410v2'\n",
    "model_dir = '/mnt/hdd1/Model/Competition/orchid'\n",
    "model_name = 'densenet201'\n",
    "gen_df = get_data_gen(model_name)\n",
    "inv_map = {v: k for k, v in gen_df.class_indices.items()}\n",
    "\n",
    "model_path = os.path.join(model_dir, f'{tiral_ver}/{model_name}_{tiral_ver}_full.h5')\n",
    "model = load_model(model_path, compile=False)\n",
    "print(f'==== {model_name} ===')\n",
    "pred = model.predict(gen_df, verbose=1)\n",
    "pred_score = np.max(pred, axis=1)\n",
    "pred_label = np.argmax(pred, axis=1)\n",
    "pred_class = [inv_map[x] for x in pred_label]\n",
    "df[f'{model_name}_pred_score'] = pred_score\n",
    "df[f'{model_name}_pred_class'] = pred_class\n",
    "df[f'{model_name}_pred_class'] = df[f'{model_name}_pred_class'].astype(int)\n",
    "acc = accuracy_score(df['category'], df[f'{model_name}_pred_class'])\n",
    "print(f'{model_name}:{acc:.2f}')\n",
    "\n"
   ]
  },
  {
   "cell_type": "code",
   "execution_count": null,
   "id": "3477ab2a-cd61-4656-ae3e-40663fdad311",
   "metadata": {},
   "outputs": [],
   "source": []
  }
 ],
 "metadata": {
  "kernelspec": {
   "display_name": "Python 3 (ipykernel)",
   "language": "python",
   "name": "python3"
  },
  "language_info": {
   "codemirror_mode": {
    "name": "ipython",
    "version": 3
   },
   "file_extension": ".py",
   "mimetype": "text/x-python",
   "name": "python",
   "nbconvert_exporter": "python",
   "pygments_lexer": "ipython3",
   "version": "3.8.2"
  }
 },
 "nbformat": 4,
 "nbformat_minor": 5
}
