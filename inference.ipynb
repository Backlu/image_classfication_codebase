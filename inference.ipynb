{
 "cells": [
  {
   "cell_type": "markdown",
   "id": "73a3ecbf-21e9-44bb-9951-7c6cf9b71826",
   "metadata": {},
   "source": [
    "# Inference"
   ]
  },
  {
   "cell_type": "markdown",
   "id": "a019fa27-c1c0-4bdc-a28f-d519444d7323",
   "metadata": {},
   "source": [
    "History\n",
    "- 4/9\n",
    "   - implement ensemble\n",
    "- 4/10\n",
    "   - implement TTA"
   ]
  },
  {
   "cell_type": "code",
   "execution_count": 1,
   "id": "ca72cec6-5404-4abd-906e-b2c925c4784c",
   "metadata": {},
   "outputs": [],
   "source": [
    "%load_ext autoreload\n",
    "%autoreload 2\n",
    "import os, sys, cv2, glob, datetime\n",
    "import numpy as np\n",
    "import pandas as pd\n",
    "from sklearn.metrics import accuracy_score\n",
    "from tqdm import tqdm\n",
    "from classifier import *\n",
    "from stacking import *\n",
    "import matplotlib.pyplot as plt\n",
    "os.environ['CUDA_VISIBLE_DEVICES'] = '0'\n",
    "os.environ['TF_CPP_MIN_LOG_LEVEL'] = '3' \n"
   ]
  },
  {
   "cell_type": "code",
   "execution_count": 2,
   "id": "d06ea458",
   "metadata": {},
   "outputs": [],
   "source": [
    "\n",
    "def plot_flower(df, cls):\n",
    "    plt.figure(figsize=(15,8))\n",
    "    for i, f in enumerate(df_submit[df_submit['category']==cls]['filepath'], start=1):\n",
    "        plt.subplot(5,2,i)\n",
    "        img = cv2.imread(f)\n",
    "        plt.imshow(img)\n",
    "        plt.axis('off'); \n",
    "    plt.tight_layout()\n",
    "    plt.show()\n",
    "\n"
   ]
  },
  {
   "cell_type": "markdown",
   "id": "6dbad59c",
   "metadata": {},
   "source": [
    "### 1. Prepare data"
   ]
  },
  {
   "cell_type": "code",
   "execution_count": 5,
   "id": "b75f58a5-0354-4a45-8308-6d050b53a1c5",
   "metadata": {},
   "outputs": [],
   "source": [
    "\n",
    "tr_floder = '/mnt/hdd1/Data/Competition/orchid/training'\n",
    "df_raw = pd.DataFrame({'filepath':glob.glob(os.path.join(tr_floder,'*.jpg'))})\n",
    "df_raw['filename'] = df_raw['filepath'].map(lambda x: os.path.basename(x))\n",
    "df_raw['key']=df_raw['filename']\n",
    "df_raw.sort_values(by='key', inplace=True)\n",
    "\n",
    "#新增training aug 0412\n",
    "aug_folder='/mnt/hdd1/Data/Competition/orchid/training_aug'\n",
    "df_aug = pd.DataFrame({'filepath':glob.glob(os.path.join(aug_folder,'*.jpg'))})\n",
    "df_aug['filename'] = df_aug['filepath'].map(lambda x: os.path.basename(x))\n",
    "df_aug['key']=df_aug['filename'].map(lambda x: x[4:])\n",
    "df_aug.sort_values(by='key', inplace=True)\n",
    "\n",
    "#TODO: 新增test_public\n",
    "#TODO: 新增test_private\n"
   ]
  },
  {
   "cell_type": "markdown",
   "id": "6f19aa45",
   "metadata": {},
   "source": [
    "### 2. Stack Inference & ensemble"
   ]
  },
  {
   "cell_type": "code",
   "execution_count": 6,
   "id": "37ff38b4",
   "metadata": {},
   "outputs": [],
   "source": [
    "clf = Classifier()\n",
    "clf.model_dir = '/mnt/hdd1/Model/Competition/orchid'\n",
    "clf.cls_map_path = 'model/model_cls_map.pkl'\n",
    "clf.model_ver = '0414v1'\n",
    "clf.ensemble_models = ensemble_models\n",
    "stk_model = joblib.load(os.path.join(clf.model_dir, clf.model_ver, 'stack.pkl'))\n"
   ]
  },
  {
   "cell_type": "code",
   "execution_count": null,
   "id": "c55a1d7a",
   "metadata": {
    "scrolled": true
   },
   "outputs": [
    {
     "name": "stderr",
     "output_type": "stream",
     "text": [
      "  0%|                                                                                                                                                                                 | 0/5 [00:00<?, ?it/s]"
     ]
    },
    {
     "name": "stdout",
     "output_type": "stream",
     "text": [
      "Found 2190 validated image filenames belonging to 1 classes.\n",
      "88/88 [==============================] - 20s 146ms/step\n",
      "Found 2190 validated image filenames belonging to 1 classes.\n",
      "88/88 [==============================] - 17s 147ms/step\n",
      "Found 2190 validated image filenames belonging to 1 classes.\n",
      "88/88 [==============================] - 15s 141ms/step\n",
      "Found 2190 validated image filenames belonging to 1 classes.\n",
      "88/88 [==============================] - 17s 145ms/step\n",
      "Found 2190 validated image filenames belonging to 1 classes.\n",
      "88/88 [==============================] - 17s 146ms/step\n",
      "Found 2190 validated image filenames belonging to 1 classes.\n",
      "88/88 [==============================] - 15s 144ms/step\n",
      "Found 2190 validated image filenames belonging to 1 classes.\n",
      "88/88 [==============================] - 16s 144ms/step\n",
      "Found 2190 validated image filenames belonging to 1 classes.\n",
      "88/88 [==============================] - 16s 143ms/step\n",
      "Found 2190 validated image filenames belonging to 1 classes.\n",
      "88/88 [==============================] - 14s 137ms/step\n",
      "Found 2190 validated image filenames belonging to 1 classes.\n",
      "88/88 [==============================] - 16s 140ms/step\n",
      "Found 2190 validated image filenames belonging to 1 classes.\n",
      "88/88 [==============================] - 16s 146ms/step\n",
      "Found 2190 validated image filenames belonging to 1 classes.\n",
      "88/88 [==============================] - 16s 146ms/step\n"
     ]
    },
    {
     "name": "stderr",
     "output_type": "stream",
     "text": [
      " 20%|█████████████████████████████████▌                                                                                                                                      | 1/5 [04:06<16:24, 246.12s/it]"
     ]
    },
    {
     "name": "stdout",
     "output_type": "stream",
     "text": [
      "Found 2190 validated image filenames belonging to 1 classes.\n",
      "88/88 [==============================] - 17s 150ms/step\n",
      "Found 2190 validated image filenames belonging to 1 classes.\n",
      "56/88 [==================>...........] - ETA: 4s"
     ]
    },
    {
     "name": "stderr",
     "output_type": "stream",
     "text": [
      "2022-04-15 17:05:01.129326: F tensorflow/stream_executor/cuda/cuda_driver.cc:153] Failed setting context: CUDA_ERROR_NOT_INITIALIZED: initialization error\n",
      "2022-04-15 17:05:01.282199: F tensorflow/stream_executor/cuda/cuda_driver.cc:153] Failed setting context: CUDA_ERROR_NOT_INITIALIZED: initialization error\n",
      "2022-04-15 17:05:01.398567: F tensorflow/stream_executor/cuda/cuda_driver.cc:153] Failed setting context: CUDA_ERROR_NOT_INITIALIZED: initialization error\n",
      "2022-04-15 17:05:01.757984: F tensorflow/stream_executor/cuda/cuda_driver.cc:153] Failed setting context: CUDA_ERROR_NOT_INITIALIZED: initialization error\n"
     ]
    }
   ],
   "source": [
    "%%time\n",
    "tta_time=5\n",
    "df_submit = df_raw[['filepath','filename','key']].copy()\n",
    "df_list = []\n",
    "for i in tqdm(range(tta_time)):\n",
    "    df_raw, pred_list_raw = clf.inference(df_raw)\n",
    "    df_aug, pred_list_aug = clf.inference(df_aug)\n",
    "    df_list.append(df_raw)\n",
    "    df_list.append(df_aug)\n",
    "    pred_list = pred_list_raw+pred_list_aug\n",
    "    stackedX = stacked_dataset(pred_list)\n",
    "    yhat = stk_model.predict(stackedX)\n",
    "    yhat_score = stk_model.predict_proba(stackedX)\n",
    "    df_submit[f'stack_cls_{i}'] = yhat\n",
    "    df_submit[f'stack_score_{i}'] = np.max(yhat_score, axis=1)\n",
    "    \n"
   ]
  },
  {
   "cell_type": "code",
   "execution_count": null,
   "id": "65e5f097",
   "metadata": {},
   "outputs": [],
   "source": [
    "def voting(r, tta_time):\n",
    "    score_dict = {}\n",
    "    cnt_dict = {}\n",
    "    for i in range(3):\n",
    "        score = r[f'stack_score_{i}']\n",
    "        cls = r[f'stack_cls_{i}']\n",
    "        score_dict[cls] = score_dict.get(cls,0)+score\n",
    "        cnt_dict[cls] = cnt_dict.get(cls,0)+1\n",
    "    best_cls = max(score_dict, key=score_dict.get)\n",
    "    avg_score = score_dict[best_cls]/cnt_dict[best_cls]\n",
    "    return best_cls, avg_score\n",
    "\n",
    "ret = df_submit.apply(lambda r: voting(r, tta_time), axis=1)\n",
    "df_submit['best_cls'], df_submit['best_score'] = zip(*ret)    \n",
    "\n",
    "save_dir = os.path.dirname(df_submit.iloc[0]['filepath'])\n",
    "df_submit[['filepath','filename','best_cls']].to_csv(os.path.join(save_dir,'pseudo_label.csv'), index=False)\n"
   ]
  },
  {
   "cell_type": "markdown",
   "id": "61ff473e",
   "metadata": {},
   "source": [
    "### Generate submit.csv"
   ]
  },
  {
   "cell_type": "code",
   "execution_count": null,
   "id": "441656bf",
   "metadata": {},
   "outputs": [],
   "source": []
  },
  {
   "cell_type": "markdown",
   "id": "a05af035",
   "metadata": {},
   "source": [
    "### Acc evaluate"
   ]
  },
  {
   "cell_type": "code",
   "execution_count": null,
   "id": "4ae4e26e",
   "metadata": {},
   "outputs": [],
   "source": [
    "clf.label_path = '/mnt/hdd1/Data/Competition/orchid/training/label.csv'\n",
    "clf.evaluate_acc(df_submit)\n",
    "#clf.acc_rank(pd.concat(df_list))\n"
   ]
  },
  {
   "cell_type": "markdown",
   "id": "0622b0a8",
   "metadata": {},
   "source": [
    "### Conflict Analysis"
   ]
  },
  {
   "cell_type": "code",
   "execution_count": null,
   "id": "962ae331",
   "metadata": {},
   "outputs": [],
   "source": [
    "df_submit['pass'] = df_submit['best_cls']==df_submit['category']\n",
    "df_fail = df_submit[df_submit['pass']==False]"
   ]
  },
  {
   "cell_type": "code",
   "execution_count": null,
   "id": "33e69ccd",
   "metadata": {},
   "outputs": [],
   "source": [
    "category, best_cls, filepath = df_fail.iloc[0][['category','best_cls', 'filepath']]\n",
    "\n",
    "img = cv2.imread(filepath)\n",
    "plt.imshow(img)\n",
    "plt.axis('off');\n",
    "plt.show()\n",
    "print('predict:', best_cls)\n",
    "plot_flower(df_submit, best_cls)\n",
    "print('category:', category)\n",
    "plot_flower(df_submit, category)"
   ]
  },
  {
   "cell_type": "markdown",
   "id": "51c413cd-135b-4594-94b3-7402e1b61cbf",
   "metadata": {},
   "source": [
    "***"
   ]
  }
 ],
 "metadata": {
  "kernelspec": {
   "display_name": "Python 3 (ipykernel)",
   "language": "python",
   "name": "python3"
  },
  "language_info": {
   "codemirror_mode": {
    "name": "ipython",
    "version": 3
   },
   "file_extension": ".py",
   "mimetype": "text/x-python",
   "name": "python",
   "nbconvert_exporter": "python",
   "pygments_lexer": "ipython3",
   "version": "3.8.2"
  }
 },
 "nbformat": 4,
 "nbformat_minor": 5
}
