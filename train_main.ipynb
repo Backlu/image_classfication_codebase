{
 "cells": [
  {
   "cell_type": "markdown",
   "metadata": {},
   "source": [
    "# 蘭花辨識"
   ]
  },
  {
   "cell_type": "markdown",
   "metadata": {},
   "source": [
    "History\n",
    "- 4/8 \n",
    "    - v1\n",
    "- 4/9\n",
    "    - modify data generator - flow_from_dataframe\n",
    "    - implement multiple model training\n",
    "- 4/10\n",
    "    - cutmix\n",
    "    - ensemble\n",
    "- 4/12\n",
    "    - detect flower and cut images\n",
    "- 4/13\n",
    "    - refactor to class\n",
    "    - pseudo labeling\n",
    "    \n",
    "TODO\n",
    "  - pseudo labeling"
   ]
  },
  {
   "cell_type": "code",
   "execution_count": 1,
   "metadata": {
    "scrolled": true
   },
   "outputs": [],
   "source": [
    "%load_ext autoreload\n",
    "%autoreload 2\n",
    "\n",
    "import os, sys, cv2, glob, datetime\n",
    "import matplotlib.pyplot as plt\n",
    "import numpy as np\n",
    "import pandas as pd\n",
    "from sklearn.utils import shuffle\n",
    "import tensorflow as tf\n",
    "import time\n",
    "import joblib\n",
    "from PIL import Image\n",
    "from colorama import Fore, Back, Style\n",
    "from utils import *    \n",
    "from trainner import *\n",
    "from classifier import *\n",
    "from stacking import *\n",
    "\n",
    "os.environ['CUDA_VISIBLE_DEVICES'] = '0'\n",
    "os.environ['TF_CPP_MIN_LOG_LEVEL'] = '3' \n"
   ]
  },
  {
   "cell_type": "markdown",
   "metadata": {
    "tags": []
   },
   "source": [
    "### 1. Prepare Data"
   ]
  },
  {
   "cell_type": "code",
   "execution_count": 2,
   "metadata": {},
   "outputs": [],
   "source": [
    "\n",
    "data_floder = '/mnt/hdd1/Data/Competition/orchid/training'\n",
    "df_tr = pd.read_csv(os.path.join(data_floder,'label.csv'))\n",
    "df_tr['category_str'] = df_tr['category'].astype('str')\n",
    "df_tr['filepath']=df_tr['filename'].map(lambda x: os.path.join(data_floder,x))\n",
    "df_tr['key']=df_tr['filename']\n",
    "df_tr['isAug']=False\n",
    "\n",
    "#新增training_aug\n",
    "aug_folder='/mnt/hdd1/Data/Competition/orchid/training_aug'\n",
    "df_traug = pd.read_csv(os.path.join(aug_folder,'pseudo_label.csv'))\n",
    "df_traug['category_str'] = df_traug['best_cls'].astype('str')\n",
    "df_traug['category'] = df_traug['category_str'].astype(int)\n",
    "df_traug['filepath']=df_traug['filename'].map(lambda x: os.path.join(aug_folder,x))\n",
    "df_traug['key']=df_traug['filename'].map(lambda x: x[4:])\n",
    "df_traug['isAug']=True\n",
    "\n",
    "#TODO: 新增test_public\n",
    "\n",
    "#TODO: 新增test_private\n",
    "\n",
    "df_raw = pd.concat([df_tr])\n",
    "df_aug = pd.concat([df_traug])\n",
    "\n",
    "df = pd.concat([df_raw,df_aug])"
   ]
  },
  {
   "cell_type": "markdown",
   "metadata": {
    "tags": []
   },
   "source": [
    "### 2. Train Classification Model"
   ]
  },
  {
   "cell_type": "code",
   "execution_count": 3,
   "metadata": {},
   "outputs": [],
   "source": [
    "agent = Trainner()\n",
    "#agent.pretrain_dir = '/mnt/hdd1/Model/TF_Pretrain'\n",
    "agent.pretrain_dir = '/mnt/hdd1/Model/Competition/orchid/0414v1'\n",
    "#agent.pretrain_dir = None\n",
    "agent.model_dir = '/mnt/hdd1/Model/Competition/orchid'\n",
    "agent.cutmix=True\n",
    "agent.tiral_ver = '0415v1'\n",
    "agent.cls_number=219\n",
    "agent.lr=1e-5 #0.1 \n",
    "agent.opt='adamw'\n",
    "agent.multi_gpu=False\n",
    "EPOCH =50\n",
    "\n",
    "\n"
   ]
  },
  {
   "cell_type": "code",
   "execution_count": null,
   "metadata": {
    "scrolled": true
   },
   "outputs": [
    {
     "name": "stdout",
     "output_type": "stream",
     "text": [
      "====== densenet201 ========\n",
      "Found 3504 validated image filenames belonging to 219 classes.\n",
      "Found 876 validated image filenames belonging to 219 classes.\n",
      "Found 3504 validated image filenames belonging to 219 classes.\n",
      "\u001b[31m---- ERROR ---- failed to allocate memory [Op:AddV2]\n",
      "\u001b[0m\n",
      "densenet201 batch size: 26\n",
      "====== densenet201 ========\n",
      "Found 3504 validated image filenames belonging to 219 classes.\n",
      "Found 876 validated image filenames belonging to 219 classes.\n",
      "Found 3504 validated image filenames belonging to 219 classes.\n",
      "\u001b[31m---- ERROR ---- failed to allocate memory [Op:Mul]\n",
      "\u001b[0m\n",
      "densenet201 batch size: 22\n",
      "====== densenet201 ========\n",
      "Found 3504 validated image filenames belonging to 219 classes.\n",
      "Found 876 validated image filenames belonging to 219 classes.\n",
      "Found 3504 validated image filenames belonging to 219 classes.\n",
      "\u001b[31m---- ERROR ---- failed to allocate memory [Op:Mul]\n",
      "\u001b[0m\n",
      "densenet201 batch size: 18\n",
      "====== densenet201 ========\n",
      "Found 3504 validated image filenames belonging to 219 classes.\n",
      "Found 876 validated image filenames belonging to 219 classes.\n",
      "Found 3504 validated image filenames belonging to 219 classes.\n"
     ]
    }
   ],
   "source": [
    "trtime_dict = {}\n",
    "trsuccess_dict = {}\n",
    "if agent.multi_gpu:\n",
    "    strategy = tf.distribute.MirroredStrategy()\n",
    "    with strategy.scope():\n",
    "        for model_name in ensemble_models:\n",
    "            df = shuffle(df)\n",
    "            agent.training(model_name, df, EPOCH)\n",
    "else:\n",
    "    for model_name in ensemble_models:\n",
    "        df = shuffle(df)\n",
    "        ts = time.time()\n",
    "        retry_cnt=3\n",
    "        tr_success = False\n",
    "        while True:       \n",
    "            try:\n",
    "                agent.training(model_name, df, EPOCH)\n",
    "                print(Fore.GREEN + '---- PASS ----')\n",
    "                print(Style.RESET_ALL)\n",
    "                tr_success=True\n",
    "                break\n",
    "            except tf.errors.ResourceExhaustedError as e:\n",
    "                print(Fore.RED +'---- ERROR ----', str(e))\n",
    "                print(Style.RESET_ALL)\n",
    "                if retry_cnt==0:\n",
    "                    break            \n",
    "                agent.reduce_batch(model_name, 4)    \n",
    "                retry_cnt=retry_cnt-1\n",
    "        \n",
    "        t = time.time()-ts\n",
    "        trtime_dict[model_name]=t\n",
    "        trsuccess_dict[model_name]=tr_success\n",
    "        print(f'{model_name}: {t:.2f} sec')\n",
    "    \n",
    "\n",
    "status_df = pd.DataFrame(list(trtime_dict.items()))\n",
    "status_df['success'] = trsuccess_dict.values()\n",
    "joblib.dump(status_df, f'model/trtime_{agent.tiral_ver}.pkl')\n"
   ]
  },
  {
   "cell_type": "code",
   "execution_count": null,
   "metadata": {
    "scrolled": false
   },
   "outputs": [],
   "source": [
    "#training time\n",
    "display(status_df)\n",
    "\n",
    "#model loss/acc\n",
    "model_dir = os.path.join(agent.model_dir, agent.tiral_ver)\n",
    "for p in glob.glob(os.path.join(model_dir,'*.jpg')):\n",
    "    img=Image.open(p)\n",
    "    display(img)"
   ]
  },
  {
   "cell_type": "markdown",
   "metadata": {},
   "source": [
    "### 3. Train Stacking Model"
   ]
  },
  {
   "cell_type": "code",
   "execution_count": null,
   "metadata": {},
   "outputs": [],
   "source": [
    "clf = Classifier()\n",
    "clf.model_dir = '/mnt/hdd1/Model/Competition/orchid'\n",
    "clf.cls_map_path = 'model/model_cls_map.pkl'\n",
    "clf.model_ver = agent.tiral_ver\n",
    "clf.ensemble_models = ensemble_models\n"
   ]
  },
  {
   "cell_type": "code",
   "execution_count": null,
   "metadata": {},
   "outputs": [],
   "source": [
    "\n",
    "df_raw, pred_list_raw = clf.inference(df_raw)\n",
    "df_aug, pred_list_aug = clf.inference(df_aug)\n",
    "pred_list = pred_list_raw+pred_list_aug\n",
    "stackedX = stacked_dataset(pred_list)\n",
    "\n",
    "\n",
    "stk_model = fit_stacked_model(stackedX, df_raw['category'])\n",
    "yhat = stk_model.predict(stackedX)\n",
    "stack_acc = accuracy_score(df_raw['category'], yhat)\n",
    "print(f'Stack acc: {stack_acc:.2f}')\n",
    "\n",
    "#Save stack model\n",
    "joblib.dump(stk_model, os.path.join(agent.model_dir, agent.tiral_ver, 'stack.pkl'))\n"
   ]
  },
  {
   "cell_type": "code",
   "execution_count": null,
   "metadata": {},
   "outputs": [],
   "source": []
  },
  {
   "cell_type": "code",
   "execution_count": null,
   "metadata": {},
   "outputs": [],
   "source": []
  }
 ],
 "metadata": {
  "kernelspec": {
   "display_name": "Python 3 (ipykernel)",
   "language": "python",
   "name": "python3"
  },
  "language_info": {
   "codemirror_mode": {
    "name": "ipython",
    "version": 3
   },
   "file_extension": ".py",
   "mimetype": "text/x-python",
   "name": "python",
   "nbconvert_exporter": "python",
   "pygments_lexer": "ipython3",
   "version": "3.8.0"
  }
 },
 "nbformat": 4,
 "nbformat_minor": 4
}
