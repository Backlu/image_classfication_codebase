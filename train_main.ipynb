{
 "cells": [
  {
   "cell_type": "markdown",
   "metadata": {},
   "source": [
    "# Model Training"
   ]
  },
  {
   "cell_type": "markdown",
   "metadata": {},
   "source": [
    "History\n",
    "- 4/8 \n",
    "    - v1\n",
    "- 4/9\n",
    "    - modify data generator - flow_from_dataframe\n",
    "    - implement multiple model training\n",
    "- 4/10\n",
    "    - cutmix\n",
    "    - ensemble\n",
    "- 4/12\n",
    "    - detect flower and cut images\n",
    "- 4/13\n",
    "    - refactor to class\n",
    "    - pseudo labeling\n",
    "    \n",
    "TODO\n",
    "  - pseudo labeling"
   ]
  },
  {
   "cell_type": "code",
   "execution_count": null,
   "metadata": {
    "scrolled": true
   },
   "outputs": [],
   "source": [
    "%load_ext autoreload\n",
    "%autoreload 2\n",
    "\n",
    "import os, sys, cv2, glob, datetime\n",
    "import matplotlib.pyplot as plt\n",
    "import numpy as np\n",
    "import pandas as pd\n",
    "from sklearn.utils import shuffle\n",
    "from utils import *    \n",
    "from trainner import *\n",
    "import tensorflow as tf\n",
    "import time\n",
    "import joblib\n",
    "from PIL import Image\n",
    "os.environ['CUDA_VISIBLE_DEVICES'] = '1'\n",
    "\n"
   ]
  },
  {
   "cell_type": "markdown",
   "metadata": {
    "tags": []
   },
   "source": [
    "### 1. Prepare Data"
   ]
  },
  {
   "cell_type": "code",
   "execution_count": null,
   "metadata": {},
   "outputs": [],
   "source": [
    "\n",
    "data_floder = '/mnt/hdd1/Data/Competition/orchid/training'\n",
    "df_tr = pd.read_csv(os.path.join(data_floder,'label.csv'))\n",
    "df_tr['category_str'] = df_tr['category'].astype('str')\n",
    "df_tr['filepath']=df_tr['filename'].map(lambda x: os.path.join(data_floder,x))\n",
    "df_tr['isAug']=False\n",
    "\n",
    "#新增training_aug\n",
    "aug_folder='/mnt/hdd1/Data/Competition/orchid/training_aug'\n",
    "df_aug = pd.read_csv(os.path.join(aug_folder,'pseudo_label.csv'))\n",
    "df_aug['category_str'] = df_aug['best_cls'].astype('str')\n",
    "df_aug['filepath']=df_aug['filename'].map(lambda x: os.path.join(aug_folder,x))\n",
    "df_aug['isAug']=True\n",
    "\n",
    "#TODO: 新增test_public\n",
    "#TODO: 新增test_private\n",
    "\n",
    "df = pd.concat([df_tr,df_aug])"
   ]
  },
  {
   "cell_type": "markdown",
   "metadata": {
    "tags": []
   },
   "source": [
    "### 2. Training"
   ]
  },
  {
   "cell_type": "code",
   "execution_count": null,
   "metadata": {},
   "outputs": [],
   "source": [
    "agent = Trainner()\n",
    "#agent.pretrain_dir = '/mnt/hdd1/Model/TF_Pretrain'\n",
    "agent.pretrain_dir = '/mnt/hdd1/Model/Competition/orchid/0412v1'\n",
    "agent.model_dir = '/mnt/hdd1/Model/Competition/orchid'\n",
    "agent.cutmix=True\n",
    "agent.tiral_ver = '0413v1'\n",
    "agent.cls_number=219\n",
    "agent.lr=1e-6\n",
    "agent.multi_gpu=False\n",
    "EPOCH =30 \n",
    "\n",
    "candidate_models = ['densenet169', 'densenet201', 'resnet101','xception','inception_resnet_v2','resnet152v2','resnet101v2']\n",
    "\n"
   ]
  },
  {
   "cell_type": "code",
   "execution_count": null,
   "metadata": {},
   "outputs": [],
   "source": [
    "trtime_dict = {}\n",
    "if agent.multi_gpu:\n",
    "    strategy = tf.distribute.MirroredStrategy()\n",
    "    with strategy.scope():\n",
    "        for model_name in candidate_models:\n",
    "            df = shuffle(df)\n",
    "            agent.training(model_name, df, EPOCH)\n",
    "else:\n",
    "    for model_name in candidate_models:\n",
    "        df = shuffle(df)\n",
    "        ts = time.time()\n",
    "        agent.training(model_name, df, EPOCH)\n",
    "        t = time.time()-ts\n",
    "        trtime_dict[model_name]=t\n",
    "        print(f'{model_name}: {t:.2f} sec')\n",
    "    \n",
    "\n",
    "trtimd_df = pd.DataFrame(trtime_dict)\n",
    "joblib.dump(trtimd_df, f'model/trtime_{agent.tiral_ver}.pkl')\n"
   ]
  },
  {
   "cell_type": "code",
   "execution_count": null,
   "metadata": {},
   "outputs": [],
   "source": [
    "#training time\n",
    "display(trtimd_df)\n",
    "\n",
    "#model loss/acc\n",
    "model_dir = '/mnt/hdd1/Model/Competition/orchid/0412v1'\n",
    "for p in glob.glob(os.path.join(model_dir,'*.jpg')):\n",
    "    img=Image.open(p)\n",
    "    display(img)"
   ]
  },
  {
   "cell_type": "code",
   "execution_count": null,
   "metadata": {},
   "outputs": [],
   "source": []
  }
 ],
 "metadata": {
  "kernelspec": {
   "display_name": "Python 3 (ipykernel)",
   "language": "python",
   "name": "python3"
  },
  "language_info": {
   "codemirror_mode": {
    "name": "ipython",
    "version": 3
   },
   "file_extension": ".py",
   "mimetype": "text/x-python",
   "name": "python",
   "nbconvert_exporter": "python",
   "pygments_lexer": "ipython3",
   "version": "3.8.2"
  }
 },
 "nbformat": 4,
 "nbformat_minor": 4
}
